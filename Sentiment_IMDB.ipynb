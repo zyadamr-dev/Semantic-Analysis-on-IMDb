{
  "nbformat": 4,
  "nbformat_minor": 0,
  "metadata": {
    "colab": {
      "provenance": []
    },
    "kernelspec": {
      "name": "python3",
      "display_name": "Python 3"
    },
    "language_info": {
      "name": "python"
    }
  },
  "cells": [
    {
      "cell_type": "code",
      "execution_count": 1,
      "metadata": {
        "colab": {
          "base_uri": "https://localhost:8080/"
        },
        "id": "i_6UeXqll1tB",
        "outputId": "af44f174-b8e6-4f31-bfc6-8c8d363aa34c"
      },
      "outputs": [
        {
          "output_type": "stream",
          "name": "stdout",
          "text": [
            "Downloading data from https://storage.googleapis.com/tensorflow/tf-keras-datasets/imdb.npz\n",
            "\u001b[1m17464789/17464789\u001b[0m \u001b[32m━━━━━━━━━━━━━━━━━━━━\u001b[0m\u001b[37m\u001b[0m \u001b[1m0s\u001b[0m 0us/step\n"
          ]
        },
        {
          "output_type": "stream",
          "name": "stderr",
          "text": [
            "/usr/local/lib/python3.11/dist-packages/keras/src/layers/core/embedding.py:90: UserWarning: Argument `input_length` is deprecated. Just remove it.\n",
            "  warnings.warn(\n"
          ]
        },
        {
          "output_type": "stream",
          "name": "stdout",
          "text": [
            "Epoch 1/5\n",
            "\u001b[1m391/391\u001b[0m \u001b[32m━━━━━━━━━━━━━━━━━━━━\u001b[0m\u001b[37m\u001b[0m \u001b[1m305s\u001b[0m 755ms/step - accuracy: 0.6865 - loss: 0.5499 - val_accuracy: 0.8362 - val_loss: 0.3784\n",
            "Epoch 2/5\n",
            "\u001b[1m391/391\u001b[0m \u001b[32m━━━━━━━━━━━━━━━━━━━━\u001b[0m\u001b[37m\u001b[0m \u001b[1m304s\u001b[0m 711ms/step - accuracy: 0.8892 - loss: 0.2783 - val_accuracy: 0.8530 - val_loss: 0.3635\n",
            "Epoch 3/5\n",
            "\u001b[1m391/391\u001b[0m \u001b[32m━━━━━━━━━━━━━━━━━━━━\u001b[0m\u001b[37m\u001b[0m \u001b[1m327s\u001b[0m 723ms/step - accuracy: 0.9077 - loss: 0.2408 - val_accuracy: 0.8136 - val_loss: 0.4306\n",
            "Epoch 4/5\n",
            "\u001b[1m391/391\u001b[0m \u001b[32m━━━━━━━━━━━━━━━━━━━━\u001b[0m\u001b[37m\u001b[0m \u001b[1m316s\u001b[0m 709ms/step - accuracy: 0.9070 - loss: 0.2493 - val_accuracy: 0.7226 - val_loss: 0.5372\n",
            "Epoch 5/5\n",
            "\u001b[1m391/391\u001b[0m \u001b[32m━━━━━━━━━━━━━━━━━━━━\u001b[0m\u001b[37m\u001b[0m \u001b[1m321s\u001b[0m 706ms/step - accuracy: 0.8914 - loss: 0.2800 - val_accuracy: 0.8080 - val_loss: 0.5028\n",
            "\u001b[1m782/782\u001b[0m \u001b[32m━━━━━━━━━━━━━━━━━━━━\u001b[0m\u001b[37m\u001b[0m \u001b[1m74s\u001b[0m 94ms/step - accuracy: 0.8085 - loss: 0.5039\n",
            "Test Accuracy: 80.80%\n"
          ]
        }
      ],
      "source": [
        "import tensorflow as tf\n",
        "from tensorflow import keras\n",
        "from tensorflow.keras.layers import Embedding, LSTM, Dense, Bidirectional, GRU\n",
        "from tensorflow.keras.preprocessing.sequence import pad_sequences\n",
        "from tensorflow.keras.preprocessing.text import Tokenizer\n",
        "import numpy as np\n",
        "\n",
        "vocab_size = 10000\n",
        "max_length = 200\n",
        "embedding_dim = 64\n",
        "\n",
        "(train_data, train_labels), (test_data, test_labels) = keras.datasets.imdb.load_data(num_words=vocab_size)\n",
        "\n",
        "train_data = pad_sequences(train_data, maxlen=max_length, padding='post', truncating='post')\n",
        "test_data = pad_sequences(test_data, maxlen=max_length, padding='post', truncating='post')\n",
        "\n",
        "model = keras.Sequential([\n",
        "    Embedding(vocab_size, embedding_dim, input_length=max_length),\n",
        "    Bidirectional(LSTM(64, return_sequences=True)),\n",
        "    Bidirectional(LSTM(32)),\n",
        "    Dense(32, activation='relu'),\n",
        "    Dense(1, activation='sigmoid')\n",
        "])\n",
        "\n",
        "model.compile(loss='binary_crossentropy', optimizer='adam', metrics=['accuracy'])\n",
        "\n",
        "model.fit(train_data, train_labels, epochs=5, batch_size=64, validation_data=(test_data, test_labels))\n",
        "\n",
        "loss, accuracy = model.evaluate(test_data, test_labels)\n",
        "print(f'Test Accuracy: {accuracy * 100:.2f}%')\n"
      ]
    },
    {
      "cell_type": "code",
      "source": [
        "word_index = keras.datasets.imdb.get_word_index()\n",
        "reverse_word_index = {value: key for key, value in word_index.items()}\n",
        "\n",
        "def decode_review(text_sequence):\n",
        "    \"\"\"Convert encoded review back to words.\"\"\"\n",
        "    return \" \".join([reverse_word_index.get(i - 3, \"?\") for i in text_sequence])\n",
        "\n",
        "def encode_review(text, word_index, vocab_size):\n",
        "    \"\"\"Convert text review to encoded format.\"\"\"\n",
        "    words = text.lower().split()\n",
        "    encoded = [word_index.get(word, 2) for word in words]\n",
        "    return encoded\n",
        "\n",
        "sample_review = \"The movie was fantastic! I really enjoyed it.\"\n",
        "\n",
        "encoded_review = encode_review(sample_review, word_index, vocab_size)\n",
        "padded_review = pad_sequences([encoded_review], maxlen=max_length, padding='post', truncating='post')\n",
        "\n",
        "prediction = model.predict(padded_review)[0][0]\n",
        "\n",
        "print(f\"Sentiment Score: {prediction:.4f}\")\n",
        "print(\"Predicted Sentiment:\", \"Positive 😊\" if prediction > 0.5 else \"Negative 😞\")\n"
      ],
      "metadata": {
        "colab": {
          "base_uri": "https://localhost:8080/"
        },
        "id": "6rqjRZlFrtns",
        "outputId": "12417e28-5afa-41fc-cee2-58f0365755fb"
      },
      "execution_count": 5,
      "outputs": [
        {
          "output_type": "stream",
          "name": "stdout",
          "text": [
            "\u001b[1m1/1\u001b[0m \u001b[32m━━━━━━━━━━━━━━━━━━━━\u001b[0m\u001b[37m\u001b[0m \u001b[1m0s\u001b[0m 63ms/step\n",
            "Sentiment Score: 0.9548\n",
            "Predicted Sentiment: Positive 😊\n"
          ]
        }
      ]
    }
  ]
}